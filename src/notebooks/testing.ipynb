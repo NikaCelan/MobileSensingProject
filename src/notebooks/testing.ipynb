{
 "cells": [
  {
   "cell_type": "code",
   "execution_count": 2,
   "metadata": {},
   "outputs": [
    {
     "name": "stdout",
     "output_type": "stream",
     "text": [
      "['/Users/michalsh/Documents/[03]Nauka/project_topical_research/MobileSensingProject/src/notebooks', '/opt/homebrew/Cellar/python@3.11/3.11.6/Frameworks/Python.framework/Versions/3.11/lib/python311.zip', '/opt/homebrew/Cellar/python@3.11/3.11.6/Frameworks/Python.framework/Versions/3.11/lib/python3.11', '/opt/homebrew/Cellar/python@3.11/3.11.6/Frameworks/Python.framework/Versions/3.11/lib/python3.11/lib-dynload', '', '/Users/michalsh/Library/Python/3.11/lib/python/site-packages', '/opt/homebrew/lib/python3.11/site-packages', '/Users/michalsh/Documents/[03]Nauka/project_topical_research/MobileSensingProject/src']\n"
     ]
    }
   ],
   "source": [
    "import os\n",
    "import sys\n",
    "import pathlib\n",
    "\n",
    "# sys.path.append(str(pathlib.Path(\"../src\")))\n",
    "sys.path.append(os.path.dirname(os.path.abspath('')))\n",
    "print(sys.path)"
   ]
  },
  {
   "cell_type": "code",
   "execution_count": 7,
   "metadata": {},
   "outputs": [
    {
     "name": "stdout",
     "output_type": "stream",
     "text": [
      "Found 9460 files belonging to 5 classes.\n",
      "Using 7568 files for training.\n",
      "Using 1892 files for validation.\n",
      "Label names: ['_background_noise_' 'down' 'left' 'right' 'up']\n",
      "(TensorSpec(shape=(None, 16000, None), dtype=tf.float32, name=None), TensorSpec(shape=(None,), dtype=tf.int32, name=None))\n"
     ]
    }
   ],
   "source": [
    "from data.load_dataset import LoadData\n",
    "\n",
    "DATA_DIR = \"../../data/speech_commands_v0.01\"\n",
    "\n",
    "loader = LoadData()\n",
    "\n",
    "# Loading data and splitting into train, test, and validation datasets\n",
    "train_ds, test_ds, val_ds = loader.load_data(DATA_DIR)\n",
    "train_spectrogram_ds = loader.convert_to_spectogram(train_ds)\n",
    "val_spectrogram_ds = loader.convert_to_spectogram(val_ds)\n",
    "test_spectrogram_ds = loader.convert_to_spectogram(test_ds)"
   ]
  },
  {
   "cell_type": "code",
   "execution_count": null,
   "metadata": {},
   "outputs": [],
   "source": []
  }
 ],
 "metadata": {
  "kernelspec": {
   "display_name": "Python 3",
   "language": "python",
   "name": "python3"
  },
  "language_info": {
   "codemirror_mode": {
    "name": "ipython",
    "version": 3
   },
   "file_extension": ".py",
   "mimetype": "text/x-python",
   "name": "python",
   "nbconvert_exporter": "python",
   "pygments_lexer": "ipython3",
   "version": "3.11.6"
  },
  "orig_nbformat": 4
 },
 "nbformat": 4,
 "nbformat_minor": 2
}
